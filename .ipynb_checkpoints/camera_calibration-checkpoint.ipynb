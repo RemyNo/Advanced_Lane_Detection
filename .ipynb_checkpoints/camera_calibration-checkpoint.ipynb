{
 "cells": [
  {
   "cell_type": "code",
   "execution_count": 25,
   "metadata": {
    "collapsed": true
   },
   "outputs": [],
   "source": [
    "import numpy as np\n",
    "import cv2\n",
    "import matplotlib.pyplot as plt\n",
    "import matplotlib.image as mpimg\n",
    "import glob\n",
    "%matplotlib inline "
   ]
  },
  {
   "cell_type": "code",
   "execution_count": 26,
   "metadata": {
    "collapsed": true
   },
   "outputs": [],
   "source": [
    "#display images side by side\n",
    "def plotImageSet(image_list,color='gnuplot2'):\n",
    "    fig = plt.figure()\n",
    "    count = 1\n",
    "    for image in image_list:\n",
    "        ax = fig.add_subplot(1,len(image_list),count)\n",
    "        imgplot = plt.imshow(image,cmap=color)\n",
    "        ax.axis('off')\n",
    "        count = count +1\n",
    "    plt.show()"
   ]
  },
  {
   "cell_type": "code",
   "execution_count": 27,
   "metadata": {
    "collapsed": false
   },
   "outputs": [],
   "source": [
    "# finding corners\n",
    "def calibrate_camera(path, nx, ny):\n",
    "    print('Calibrating camera... please be patient!')\n",
    "    # prepare object points\n",
    "    #nx = 9 # number of inside corners in x\n",
    "    #ny = 6 # number of inside corners in y\n",
    "\n",
    "    objpoints = [] # 3D points in real world space\n",
    "    imgpoints = [] # 2D points in image plane\n",
    "    imglist=[]\n",
    "    #prepare object points\n",
    "    objp = np.zeros([ny*nx,3],np.float32)\n",
    "    objp[:,:2] = np.mgrid[0:nx,0:ny].T.reshape(-1,2) # x, y coordinates of corner points\n",
    "\n",
    "    # Read in and make a list of calibration images\n",
    "    images = glob.glob(path)\n",
    "    #fname = './camera_cal/calibration1.jpg'\n",
    "    success = 0\n",
    "    failure = 0\n",
    "    for fname in images:\n",
    "\n",
    "        # If you are reading in an image using mpimg.imread() this will read in an RGB image\n",
    "        # and you should convert to grayscale using cv2.COLOR_RGB2GRAY, but if you are using\n",
    "        # cv2.imread() or the glob API, this will read in a BGR image and you should convert \n",
    "        # to grayscale using cv2.COLOR_BGR2GRAY.\n",
    "\n",
    "        # read image and convert to grayscale\n",
    "        img = mpimg.imread(fname)                    #img = cv2.imread(fname) # read with opencv lib\n",
    "        gray = cv2.cvtColor(img, cv2.COLOR_RGB2GRAY) #gray = cv2.cvtColor(img, cv2.COLOR_BGR2GRAY)  \n",
    "\n",
    "        # Find the chessboard corners\n",
    "        ret, corners = cv2.findChessboardCorners(gray, (nx, ny), None)\n",
    "\n",
    "        # If found, draw corners\n",
    "        if ret == True:\n",
    "            imgpoints.append(corners)\n",
    "            objpoints.append(objp)\n",
    "            # Draw and display the corners\n",
    "            cv2.drawChessboardCorners(img, (nx, ny), corners, ret)\n",
    "            imglist.append(img)\n",
    "            success = success+1\n",
    "        else:\n",
    "            failure = failure+1\n",
    "\n",
    "    print('Camera calibrated using ',success,' out of ',failure+success,' images!')\n",
    "    #plot successful images - debug only\n",
    "    #plotImageSet(imglist[0:8])\n",
    "    #plotImageSet(imglist[9:])\n",
    "\n",
    "    #calibrate the camera\n",
    "    # Camera calibration, given object points, image points, and the shape of the grayscale image:\n",
    "    ret, mtx, dist, rvecs, tvecs = cv2.calibrateCamera(objpoints, imgpoints, gray.shape[::-1],None,None)\n",
    "\n",
    "    return mtx,dist"
   ]
  },
  {
   "cell_type": "code",
   "execution_count": 29,
   "metadata": {
    "collapsed": false
   },
   "outputs": [],
   "source": [
    "#test\n",
    "# load a test image and undistort it\n",
    "#nx = 9 # number of inside corners in x\n",
    "#ny = 6 # number of inside corners in y\n",
    "#mtx,dist = calibrate_camera('camera_cal/calibration*.jpg',nx, ny)\n",
    "#fname = 'camera_cal/calibration1.jpg'\n",
    "#img = mpimg.imread(fname)\n",
    "#dst = cv2.undistort(img, mtx, dist, None, mtx)\n",
    "\n",
    "# display original and undistorted\n",
    "#plotImageSet([img,dst])"
   ]
  },
  {
   "cell_type": "markdown",
   "metadata": {
    "collapsed": true
   },
   "source": [
    "Note gray.shape[::-1]. This returns the image height and width in pixel values like (960, 1280).\n",
    "\n",
    "Another way to retrieve the image shape, is to get them directly from the color image by retrieving the first two values in the color image shape array using img.shape[0:2]\n",
    "\n",
    "You'll get an error if you use a color image as it contains a third value which is the number of channels (eg.3)\n"
   ]
  }
 ],
 "metadata": {
  "anaconda-cloud": {},
  "kernelspec": {
   "display_name": "Python [conda env:keras]",
   "language": "python",
   "name": "conda-env-keras-py"
  },
  "language_info": {
   "codemirror_mode": {
    "name": "ipython",
    "version": 3
   },
   "file_extension": ".py",
   "mimetype": "text/x-python",
   "name": "python",
   "nbconvert_exporter": "python",
   "pygments_lexer": "ipython3",
   "version": "3.5.2"
  }
 },
 "nbformat": 4,
 "nbformat_minor": 1
}
